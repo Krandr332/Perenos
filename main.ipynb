{
 "cells": [
  {
   "cell_type": "markdown",
   "id": "f2899cf2a93af6a0",
   "metadata": {
    "collapsed": false
   },
   "source": [
    "Удаление по категории"
   ]
  },
  {
   "cell_type": "code",
   "execution_count": 23,
   "id": "bc490b3127b620b5",
   "metadata": {
    "collapsed": false,
    "ExecuteTime": {
     "end_time": "2024-04-09T04:25:27.866604500Z",
     "start_time": "2024-04-09T04:25:27.797256600Z"
    }
   },
   "outputs": [],
   "source": [
    "import pandas as pd\n",
    "\n",
    "# Загрузка CSV файла\n",
    "file_path = 'library_educationalmaterial.csv'\n",
    "df = pd.read_csv(file_path)\n",
    "\n",
    "# Удаление строк, где значение в 6-ом столбце не равно 9 или 10\n",
    "df = df[(df.iloc[:, 5] == 9) | (df.iloc[:, 5] == 10)| (df.iloc[:, 5] == 3)]\n",
    "\n",
    "# Сохранение в новый файл\n",
    "output_file_path = 'material_delit_po_categoriam.csv'\n",
    "df.to_csv(output_file_path, index=False)\n"
   ]
  },
  {
   "cell_type": "code",
   "execution_count": null,
   "id": "3e9b388d00fb65bd",
   "metadata": {
    "collapsed": false
   },
   "outputs": [],
   "source": [
    "import pandas as pd\n",
    "\n",
    "file_path = 'material_RED.csv'\n",
    "df = pd.read_csv(file_path)\n",
    "\n",
    "filtered_df = df[(df.iloc[:, 5] == 9) | (df.iloc[:, 5] == 10)]\n",
    "\n",
    "# Вывод количества таких строк\n",
    "count_filtered_rows = len(filtered_df)\n",
    "print(f'Количество строк, где 6-ой столбец равен 9 или 10: {count_filtered_rows}')\n",
    "\n",
    "# Сохранение в новый файл\n",
    "output_file_path = 'material_delit_po_categoriam.csv'\n",
    "filtered_df.to_csv(output_file_path, index=False)\n"
   ]
  },
  {
   "cell_type": "markdown",
   "id": "898bb5ebdbed007c",
   "metadata": {
    "collapsed": false
   },
   "source": [
    "Замена цифры категории на слово"
   ]
  },
  {
   "cell_type": "code",
   "execution_count": 24,
   "id": "931369a232b14fbd",
   "metadata": {
    "collapsed": false,
    "ExecuteTime": {
     "end_time": "2024-04-09T04:26:18.263094100Z",
     "start_time": "2024-04-09T04:26:18.207634600Z"
    }
   },
   "outputs": [
    {
     "name": "stderr",
     "output_type": "stream",
     "text": [
      "C:\\Users\\Krand\\AppData\\Local\\Temp\\ipykernel_21380\\2055656770.py:8: FutureWarning: Setting an item of incompatible dtype is deprecated and will raise an error in a future version of pandas. Value 'конспект' has dtype incompatible with int64, please explicitly cast to a compatible dtype first.\n",
      "  df.loc[df.iloc[:, 5] == 9, df.columns[5]] = 'конспект'\n"
     ]
    }
   ],
   "source": [
    "import pandas as pd\n",
    "\n",
    "# Загрузка CSV файла\n",
    "file_path = 'material_delit_po_categoriam.csv'\n",
    "df = pd.read_csv(file_path)\n",
    "\n",
    "# Замена значений в 6-ом столбце\n",
    "df.loc[df.iloc[:, 5] == 9, df.columns[5]] = 'конспект'\n",
    "df.loc[df.iloc[:, 5] == 10, df.columns[5]] = 'рабочая тетрадь'\n",
    "df.loc[df.iloc[:, 5] == 3, df.columns[5]] = 'конспект урока'\n",
    "\n",
    "\n",
    "output_file_path = 'materia_zamena_int_na_string.csv'\n",
    "df.to_csv(output_file_path, index=False)\n"
   ]
  },
  {
   "cell_type": "markdown",
   "id": "9fdcdc092d7347dc",
   "metadata": {
    "collapsed": false
   },
   "source": [
    "Замена класса на текст"
   ]
  },
  {
   "cell_type": "code",
   "outputs": [
    {
     "name": "stderr",
     "output_type": "stream",
     "text": [
      "C:\\Users\\Krand\\AppData\\Local\\Temp\\ipykernel_21380\\2867214159.py:12: FutureWarning: Setting an item of incompatible dtype is deprecated and will raise an error in a future version of pandas. Value 'А1' has dtype incompatible with int64, please explicitly cast to a compatible dtype first.\n",
      "  materia_data.at[index, 6] = replacement_value\n"
     ]
    }
   ],
   "source": [
    "import pandas as pd\n",
    "\n",
    "materia_data = pd.read_csv('materia_zamena_int_na_string.csv', header=None)\n",
    "library_data = pd.read_csv('library_classname.csv', header=None)\n",
    "\n",
    "for index, row in materia_data.iterrows():\n",
    "    number_to_replace = row[6]  # 7 столбец\n",
    "    match_row = library_data[library_data[0] == number_to_replace]\n",
    "\n",
    "    if not match_row.empty:\n",
    "        replacement_value = match_row.iloc[0, 1]  \n",
    "        materia_data.at[index, 6] = replacement_value\n",
    "\n",
    "materia_data.to_csv('materia_zamena_class.csv', index=False, header=False)\n"
   ],
   "metadata": {
    "collapsed": false,
    "ExecuteTime": {
     "end_time": "2024-04-09T04:27:31.853529800Z",
     "start_time": "2024-04-09T04:27:30.830005600Z"
    }
   },
   "id": "38a73d2de6382109",
   "execution_count": 25
  },
  {
   "cell_type": "markdown",
   "source": [
    "Замена subject"
   ],
   "metadata": {
    "collapsed": false
   },
   "id": "a81edca34aefb48e"
  },
  {
   "cell_type": "code",
   "execution_count": 26,
   "id": "d1c6c5e681841007",
   "metadata": {
    "collapsed": false,
    "ExecuteTime": {
     "end_time": "2024-04-09T04:28:13.656711800Z",
     "start_time": "2024-04-09T04:28:12.658032600Z"
    }
   },
   "outputs": [
    {
     "name": "stderr",
     "output_type": "stream",
     "text": [
      "C:\\Users\\Krand\\AppData\\Local\\Temp\\ipykernel_21380\\3836949101.py:12: FutureWarning: Setting an item of incompatible dtype is deprecated and will raise an error in a future version of pandas. Value 'английский язык' has dtype incompatible with int64, please explicitly cast to a compatible dtype first.\n",
      "  materia_data.at[index, 9] = replacement_value\n"
     ]
    }
   ],
   "source": [
    "import pandas as pd\n",
    "\n",
    "materia_data = pd.read_csv('materia_zamena_class.csv', header=None)\n",
    "library_data = pd.read_csv('library_subject.csv', header=None)\n",
    "\n",
    "for index, row in materia_data.iterrows():\n",
    "    number_to_replace = row[9]  # 7 столбец\n",
    "    match_row = library_data[library_data[0] == number_to_replace]\n",
    "\n",
    "    if not match_row.empty:\n",
    "        replacement_value = match_row.iloc[0, 1] \n",
    "        materia_data.at[index, 9] = replacement_value\n",
    "\n",
    "materia_data.to_csv('materia_zamena_subject.csv', index=False, header=False)"
   ]
  },
  {
   "cell_type": "markdown",
   "id": "9989b985ae9cb831",
   "metadata": {
    "collapsed": false
   },
   "source": [
    "Перенос в новую таблицу "
   ]
  },
  {
   "cell_type": "code",
   "execution_count": 27,
   "id": "c3671347fdf6067d",
   "metadata": {
    "collapsed": false,
    "ExecuteTime": {
     "end_time": "2024-04-09T04:29:33.696903200Z",
     "start_time": "2024-04-09T04:29:33.654858100Z"
    }
   },
   "outputs": [
    {
     "name": "stdout",
     "output_type": "stream",
     "text": [
      "Данные успешно скопированы в materia_perenos.csv\n"
     ]
    }
   ],
   "source": [
    "import pandas as pd\n",
    "\n",
    "input_file = 'materia_zamena_subject.csv'\n",
    "df = pd.read_csv(input_file)\n",
    "\n",
    "columns_to_ignore = [2, 4, 7, 10, 11]\n",
    "\n",
    "df_new = df.drop(df.columns[columns_to_ignore], axis=1)\n",
    "\n",
    "output_file = 'materia_perenos.csv'\n",
    "df_new.to_csv(output_file, index=False)\n",
    "\n",
    "print(f'Данные успешно скопированы в {output_file}')\n"
   ]
  },
  {
   "cell_type": "markdown",
   "id": "7bff0cea6d1de2e1",
   "metadata": {
    "collapsed": false
   },
   "source": [
    "Замена названия пдф на ссылку"
   ]
  },
  {
   "cell_type": "code",
   "execution_count": 28,
   "id": "3f750dafe43446",
   "metadata": {
    "collapsed": false,
    "ExecuteTime": {
     "end_time": "2024-04-09T04:31:01.964976300Z",
     "start_time": "2024-04-09T04:30:57.420196400Z"
    }
   },
   "outputs": [],
   "source": [
    "import pandas as pd\n",
    "\n",
    "df1 = pd.read_csv('materia_perenos.csv', header=None) \n",
    "df2 = pd.read_csv('export_manuale.csv')\n",
    "\n",
    "for index, row in df1.iterrows():\n",
    "    value_to_replace = row.iloc[2]  \n",
    "\n",
    "    matching_row = df2[df2['key'] == value_to_replace]\n",
    "\n",
    "    if not matching_row.empty:\n",
    "        link_value = matching_row['link'].values[0]\n",
    "\n",
    "        df1.iloc[index, 2] = link_value  \n",
    "\n",
    "\n",
    "df1.to_csv('materia_zamena_adresa.csv', index=False)\n"
   ]
  },
  {
   "cell_type": "markdown",
   "id": "b695efba588032bb",
   "metadata": {
    "collapsed": false
   },
   "source": [
    "Расположение "
   ]
  },
  {
   "cell_type": "code",
   "execution_count": 29,
   "id": "1e4ea7779d0527e9",
   "metadata": {
    "collapsed": false,
    "ExecuteTime": {
     "end_time": "2024-04-09T06:06:39.565899200Z",
     "start_time": "2024-04-09T06:06:39.502296800Z"
    }
   },
   "outputs": [],
   "source": [
    "import pandas as pd\n",
    "\n",
    "df = pd.read_csv('materia_zamena_adresa.csv', header=None)\n",
    "\n",
    "selected_columns = [0, 3, 1, 4, 6]\n",
    "df_ordered = df[selected_columns]\n",
    "\n",
    "df_ordered.to_csv('materia_zamena_adresa_raspolojenie.csv', index=False, header=False)\n"
   ]
  },
  {
   "cell_type": "code",
   "execution_count": null,
   "id": "4ac1fe669bdbe201",
   "metadata": {
    "collapsed": false
   },
   "outputs": [],
   "source": []
  },
  {
   "cell_type": "markdown",
   "id": "8230f4b237b8b99c",
   "metadata": {
    "collapsed": false
   },
   "source": [
    "Добавление ТЗ КЗ"
   ]
  },
  {
   "cell_type": "code",
   "execution_count": 30,
   "id": "4de945f012a8610",
   "metadata": {
    "collapsed": false,
    "ExecuteTime": {
     "end_time": "2024-04-09T06:07:39.524445Z",
     "start_time": "2024-04-09T06:07:39.472897500Z"
    }
   },
   "outputs": [],
   "source": [
    "import pandas as pd\n",
    "\n",
    "df = pd.read_csv('materia_zamena_adresa_raspolojenie.csv', header=None)\n",
    "\n",
    "df[2] = df.apply(lambda row: 'КЗ ' + str(row[2]) if 'конспект' in row[1] else ('РТ ' + str(row[2]) if 'рабочая тетрадь' in row[1] else row[2]), axis=1)\n",
    "\n",
    "df.to_csv('materia_zamena_adresa_raspolojenie_updated.csv', index=False, header=False)\n"
   ]
  },
  {
   "cell_type": "markdown",
   "id": "a1d0f87d51793c2a",
   "metadata": {
    "collapsed": false
   },
   "source": [
    "ЗАМЕНА ССЫЛКИ НА НАЗВАНИЕ ФАЙЛА"
   ]
  },
  {
   "cell_type": "code",
   "execution_count": 31,
   "id": "982dec568708ee5",
   "metadata": {
    "collapsed": false,
    "ExecuteTime": {
     "end_time": "2024-04-09T06:09:58.392697800Z",
     "start_time": "2024-04-09T06:09:57.578459400Z"
    }
   },
   "outputs": [
    {
     "name": "stdout",
     "output_type": "stream",
     "text": [
      "Выполнено! Результат сохранен в файл result_file.csv.\n"
     ]
    }
   ],
   "source": [
    "import pandas as pd\n",
    "\n",
    "file1_path = 'materia_zamena_adresa_raspolojenie_updated.csv'\n",
    "file2_path = 'materia_perenos.csv'\n",
    "\n",
    "df1 = pd.read_csv(file1_path, header=None)\n",
    "df2 = pd.read_csv(file2_path, header=None)\n",
    "\n",
    "df1['Новый столбец'] = df1[0].apply(lambda x: df2[df2[0] == x][2].values[0] if x in df2[0].values else None)\n",
    "\n",
    "result_file_path = 'result_file.csv'\n",
    "df1.to_csv(result_file_path, index=False, header=None)\n",
    "\n",
    "print(f\"Выполнено! Результат сохранен в файл {result_file_path}.\")\n"
   ]
  },
  {
   "cell_type": "code",
   "execution_count": null,
   "id": "dc0e38afbbcbcdec",
   "metadata": {
    "collapsed": false
   },
   "outputs": [],
   "source": []
  }
 ],
 "metadata": {
  "kernelspec": {
   "display_name": "Python 3 (ipykernel)",
   "language": "python",
   "name": "python3"
  },
  "language_info": {
   "codemirror_mode": {
    "name": "ipython",
    "version": 3
   },
   "file_extension": ".py",
   "mimetype": "text/x-python",
   "name": "python",
   "nbconvert_exporter": "python",
   "pygments_lexer": "ipython3",
   "version": "3.12.0"
  }
 },
 "nbformat": 4,
 "nbformat_minor": 5
}
